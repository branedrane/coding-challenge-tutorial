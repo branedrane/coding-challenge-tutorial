{
 "cells": [
  {
   "cell_type": "markdown",
   "id": "7bc18c23-158e-4dd4-9ff2-39e011fff320",
   "metadata": {},
   "source": [
    "# Getting Started on Coding Challenges\n",
    "\n",
    "David Wakeham, *Quantum Computing Educator @ Xanadu*"
   ]
  },
  {
   "cell_type": "markdown",
   "id": "0af2ef37-535d-4139-b622-375d8abcba7c",
   "metadata": {},
   "source": [
    "## 1. Basic setup\n",
    "\n",
    "### 1.1. Cloud access\n",
    "\n",
    "- First up, go to [qhack.ai](qhack.ai). You will see a button in the top right giving you the option to \"Sign In\":\n",
    "\n",
    "<center>\n",
    "<img src=\"pics/site-arrow.png\" style=\"width:800px\">\n",
    "</center>\n",
    "\n",
    "You'll be redirected to a login page. If you don't already have an account, you can create one by clicking on the button at the bottom:\n",
    "\n",
    "<center>\n",
    "<img src=\"pics/sign-arrow.png\" style=\"width:650px\">\n",
    "</center>\n",
    "\n",
    "Fill in your details and confirm you're not a robot:\n",
    "\n",
    "<center>\n",
    "<img src=\"pics/deets2.png\" style=\"width:600px\">\n",
    "</center>\n",
    "\n",
    "Then read/accept terms of service and verify your email address. You can now sign in!\n",
    "\n",
    "<center>\n",
    "<img src=\"pics/signed.png\" style=\"width:600px\">\n",
    "</center>"
   ]
  },
  {
   "cell_type": "markdown",
   "id": "e2dbfdad-f731-45fc-900d-fdc4905f4349",
   "metadata": {},
   "source": [
    "### 1.2. Registration\n",
    "\n",
    "In order to actually participate in QHack 2023, you need to register. Return to [qhack.ai](qhack.ai) and click on the \"Register now\" button:\n",
    "\n",
    "<center>\n",
    "<img src=\"pics/site-reg.png\" style=\"width:800px\">\n",
    "</center>\n",
    "\n",
    "Then we fill in some more details:\n",
    "\n",
    "<center>\n",
    "<img src=\"pics/register-deets.png\" style=\"width:600px\">\n",
    "</center>\n",
    "\n",
    "You should be set!\n",
    "\n",
    "<center>\n",
    "<img src=\"pics/reg-success.png\" style=\"width:500px\">\n",
    "</center>"
   ]
  },
  {
   "cell_type": "markdown",
   "id": "5b10b678-79df-45a1-a7aa-f64a2ce2f719",
   "metadata": {},
   "source": [
    "### 1.3. Finding a team\n",
    "\n",
    "Hit the \"Coding Challenge\" button to head to the coding challenge platform:\n",
    "\n",
    "<center>\n",
    "<img src=\"pics/site-code.png\" style=\"width:800px\">\n",
    "</center>\n",
    "\n",
    "You'll be presented with two choices. You can either **join a team** or **create a team**:\n",
    "\n",
    "<center>\n",
    "<img src=\"pics/site3.png\" style=\"width:800px\">\n",
    "</center>\n",
    "\n",
    "To join a team, you need a **team code**. Let's create a team instead. First, we choose a **team name**:\n",
    "\n",
    "<center>\n",
    "<img src=\"pics/create2-arrow.png\" style=\"width:550px\">\n",
    "</center>\n",
    "\n",
    "We then need to choose a individual username, or **handle**:\n",
    "\n",
    "<center>\n",
    "<img src=\"pics/handle.png\" style=\"width:550px\">\n",
    "</center>\n",
    "\n",
    "After choosing a handle, we land on a team tab. This includes a team code that we can use to invite other people:\n",
    "\n",
    "<center>\n",
    "<img src=\"pics/team-code.png\" style=\"width:850px\">\n",
    "</center>\n",
    "\n",
    "There is also a **lock** you can toggle to prevent people from joining:\n",
    "\n",
    "<center>\n",
    "<img src=\"pics/team-lock.png\" style=\"width:850px\">\n",
    "</center>\n",
    "\n",
    "If you're looking for a team, head back to [qhack.ai](qhack.ai) and click on the \"Join the community\" button:\n",
    "\n",
    "<center>\n",
    "<img src=\"pics/site-disc.png\" style=\"width:800px\">\n",
    "</center>\n",
    "\n",
    "This will take you to the QHack 2023 **Discord channel**. Once you've joined, navigate to **#👀looking-for-a-team**, where you can chat about joining a team for the coding challenges (and later, the hackathon):\n",
    "\n",
    "<center>\n",
    "<img src=\"pics/disc-arrow.png\" style=\"width:450px\">\n",
    "</center>\n",
    "\n",
    "That's it for getting onto a team!"
   ]
  },
  {
   "cell_type": "markdown",
   "id": "42976a9a-7659-464f-9e0c-ea10e3b064e2",
   "metadata": {},
   "source": [
    "## 2. Doing a tutorial challenge\n",
    "\n",
    "### 2.1. Challenge interface\n",
    "\n",
    "There are a bunch of other tabs here. The first one displays **rank** information about my team:\n",
    "\n",
    "<center>\n",
    "<img src=\"pics/rank.png\" style=\"width:850px\">\n",
    "</center>\n",
    "\n",
    "I haven't answered any questions so I don't have any points! We'll get to **challenges** and **submissions** in a moment, but before we do, there is another useful tab: **support**. You can use this if you run into any issues. Watch the short video for more information about our support avenues:\n",
    "\n",
    "<center>\n",
    "<img src=\"pics/support.png\" style=\"width:850px\">\n",
    "</center>\n",
    "\n",
    "We'll get into challenges and submissions now. Clicking on the **challenge** tab displays available challenges:\n",
    "\n",
    "<center>\n",
    "<img src=\"pics/dailies2.png\" style=\"width:850px\">\n",
    "</center>\n",
    "\n",
    "Let's do one of these! We'll pick \"Affairs of State\". The problem starts with a blurb,\n",
    "\n",
    "<center>\n",
    "<img src=\"pics/affairs.png\" style=\"width:850px\">\n",
    "</center>\n",
    "\n",
    "followed by a more explicit description of the challenge:\n",
    "\n",
    "<center>\n",
    "<img src=\"pics/challenge.png\" style=\"width:850px\">\n",
    "</center>\n",
    "\n",
    "Below this is the code itself:\n",
    "\n",
    "<center>\n",
    "<img src=\"pics/code1.png\" style=\"width:850px\">\n",
    "</center>\n",
    "\n",
    "The yellow portion is not editable, but the white is. We have a few tasks here:\n",
    "- to create a circuit;\n",
    "- to create a device that will execute our circuit; and\n",
    "- to bind them together using a `QNode`.\n",
    "\n",
    "Let's simply submit this unedited code and see what happens:\n",
    "\n",
    "<center>\n",
    "<img src=\"pics/submit1.png\" style=\"width:850px\">\n",
    "</center>\n",
    "\n",
    "Unsurprisingly, we didn't get it right! It gives us a somewhat general error message on the right. Clicking on the small arrow expands the message and tells us something more specific:\n",
    "\n",
    "<center>\n",
    "<img src=\"pics/error1-arrow.png\" style=\"width:750px\">\n",
    "</center>\n",
    "\n",
    "There is a **public test case** that we've failed. If we close the error box and go back to the challenge page, we find there is an uneditable code section containing this test case (sandwiched between code blocks on either side for doing the testing itself):\n",
    "\n",
    "<center>\n",
    "<img src=\"pics/test1.png\" style=\"width:850px\">\n",
    "</center>\n",
    "\n",
    "This is an input-outpair pair our functions need to satisfy. We failed because we don't output anything! In addition to these public test cases which we can use for debugging (which I'll get to in a sec), there are **private test cases**. These exist to prevent \"test-case hacking\", i.e. simply custom-building a function which satisfies the test cases without solving the broader objectives of the challenge. By clicking on the **submissions** tab, we can see our history of submissions:\n",
    "\n",
    "<center>\n",
    "<img src=\"pics/submissions1-arrow.png\" style=\"width:850px\">\n",
    "</center>\n",
    "\n",
    "Clicking on a submission provides the associated error message if we failed, or a success message."
   ]
  },
  {
   "cell_type": "markdown",
   "id": "a397d177-0d1f-4399-b1d1-9deb030fc8ea",
   "metadata": {},
   "source": [
    "### 2.2. Local editing\n",
    "\n",
    "We can try coding directly in the editable code blocks of the challenge description, submitting, and seeing if we succeed or fail. But this is not ideal, and in particular, every 10 minutes or so these code blocks will reset! A tiny demon comes along and erases the cache. The alternative is to edit \"locally\" in the PennyLane-enabled environment of our choice. To do this, we simply **copy all** the code (using the left button) into the environment:\n",
    "\n",
    "<center>\n",
    "<img src=\"pics/options-arrow.png\" style=\"width:650px\">\n",
    "</center>\n",
    "\n",
    "If you don't already have such an environment, Xanadu provides one! Hitting the button on the right takes you to the **PennyLane cloud** where you can create a PennyLane-enabled notebook:\n",
    "\n",
    "<center>\n",
    "<img src=\"pics/cloud-arrow.png\" style=\"width:450px\">\n",
    "</center>\n",
    "\n",
    "Since I'm already in a PennyLane-enabled notebook, I may as well just copy it here! We start with some imports:"
   ]
  },
  {
   "cell_type": "code",
   "execution_count": 2,
   "id": "d1802c09-51bf-4ea5-90cf-eef0136dc196",
   "metadata": {},
   "outputs": [],
   "source": [
    "import json\n",
    "import pennylane as qml\n",
    "import pennylane.numpy as np"
   ]
  },
  {
   "cell_type": "markdown",
   "id": "5d03878b-29ee-49c3-8bf3-edcbdb2591b8",
   "metadata": {},
   "source": [
    "Next, we have the (incomplete) circuit:"
   ]
  },
  {
   "cell_type": "code",
   "execution_count": 3,
   "id": "b238fc31-6e86-4916-94a2-09db254c7546",
   "metadata": {},
   "outputs": [],
   "source": [
    "# Put your code here #\n",
    "\n",
    "# Create a default.qubit device with 2 qubits / wires using qml.device\n",
    "\n",
    "# Turn your circuit into a QNode\n",
    "\n",
    "def circuit(angles):\n",
    "    \"\"\"The quantum circuit that you will simulate.\n",
    "\n",
    "    Args:\n",
    "        angles (list(float)): The gate angles in the circuit.\n",
    "\n",
    "    Returns:\n",
    "        (numpy.tensor): \n",
    "            The probability vector of the underlying quantum state that this circuit produces.\n",
    "    \"\"\"\n",
    "    # Put the rotation gates here\n",
    "    return qml.probs(wires=[0, 1])"
   ]
  },
  {
   "cell_type": "markdown",
   "id": "620a11e8-3116-4543-b5b8-849761fe4737",
   "metadata": {},
   "source": [
    "Finally, we have the testing code. Running it will reproduce the runtime error we saw on the platform:"
   ]
  },
  {
   "cell_type": "code",
   "execution_count": 4,
   "id": "a940944f-8779-464e-ab90-b6eb3aa97658",
   "metadata": {},
   "outputs": [
    {
     "name": "stdout",
     "output_type": "stream",
     "text": [
      "Running test case 0 with input '[1.23, 4.56]'...\n",
      "Runtime Error. 'ProbabilityMP' object has no attribute 'tolist'\n"
     ]
    }
   ],
   "source": [
    "# These functions are responsible for testing the solution. \n",
    "def run(test_case_input: str) -> str:\n",
    "    angles = json.loads(test_case_input)\n",
    "    output = circuit(angles).tolist()\n",
    "\n",
    "    return str(output)\n",
    "\n",
    "def check(solution_output: str, expected_output: str) -> None:\n",
    "    solution_output = json.loads(solution_output)\n",
    "    expected_output = json.loads(expected_output)\n",
    "    assert np.allclose(solution_output, expected_output, rtol=1e-4)\n",
    "    \n",
    "\n",
    "\n",
    "test_cases = [['[1.23, 4.56]', '[0.2829251572359589, 0.3841937063262924, 0.1411749135148633, 0.19170622292288542]']]\n",
    "\n",
    "for i, (input_, expected_output) in enumerate(test_cases):\n",
    "    print(f\"Running test case {i} with input '{input_}'...\")\n",
    "\n",
    "    try:\n",
    "        output = run(input_)\n",
    "\n",
    "    except Exception as exc:\n",
    "        print(f\"Runtime Error. {exc}\")\n",
    "\n",
    "    else:\n",
    "        if message := check(output, expected_output):\n",
    "            print(f\"Wrong Answer. Have: '{output}'. Want: '{expected_output}'.\")\n",
    "\n",
    "        else:\n",
    "            print(\"Correct!\")"
   ]
  },
  {
   "cell_type": "markdown",
   "id": "9fa704f5-022d-4cd3-b437-0c6fe44a0f6e",
   "metadata": {},
   "source": [
    "Let's actually solve the problem! To create a device, I use `qml.device` to mock up a two-qubit quantum computer with the default simulator:"
   ]
  },
  {
   "cell_type": "code",
   "execution_count": 7,
   "id": "4e59172c-fb3b-47fb-a29a-dfc364227f11",
   "metadata": {},
   "outputs": [],
   "source": [
    "# Create a default.qubit device with 2 qubits / wires using qml.device\n",
    "dev = qml.device(\"default.qubit\", wires=2)"
   ]
  },
  {
   "cell_type": "markdown",
   "id": "ff8fe444-72a4-4bcd-8b47-beaf28689632",
   "metadata": {},
   "source": [
    "I will decorate the circuit with this device via `@qml.qnode(dev)`. I also need to some Pauli Y rotations `RY` (with parameters `angles[0]` and `angles[1]`) to the circuit so it resembles the picture:\n",
    "\n",
    "<center>\n",
    "<img src=\"pics/circuit-tutorial.png\" style=\"width:550px\">\n",
    "</center>\n",
    "\n",
    "Let's see how it looks:"
   ]
  },
  {
   "cell_type": "code",
   "execution_count": 14,
   "id": "026f7c11-d639-400e-a77f-11faacd2df7c",
   "metadata": {},
   "outputs": [],
   "source": [
    "# Turn your circuit into a QNode\n",
    "@qml.qnode(dev)\n",
    "\n",
    "def circuit(angles):\n",
    "    \"\"\"The quantum circuit that you will simulate.\n",
    "\n",
    "    Args:\n",
    "        angles (list(float)): The gate angles in the circuit.\n",
    "\n",
    "    Returns:\n",
    "        (numpy.tensor): \n",
    "            The probability vector of the underlying quantum state that this circuit produces.\n",
    "    \"\"\"\n",
    "    # Put the rotation gates here\n",
    "    qml.RY(angles[0],wires=0)\n",
    "    qml.RY(angles[1],wires=1)\n",
    "    \n",
    "    return qml.probs(wires=[0, 1])"
   ]
  },
  {
   "cell_type": "markdown",
   "id": "5caa9524-83de-4bcf-adf1-73250751caac",
   "metadata": {},
   "source": [
    "Finally, I'll run the test code again:"
   ]
  },
  {
   "cell_type": "code",
   "execution_count": 15,
   "id": "f9a6b813-2ffe-4f21-b5b8-851604c8bf58",
   "metadata": {},
   "outputs": [
    {
     "name": "stdout",
     "output_type": "stream",
     "text": [
      "Running test case 0 with input '[1.23, 4.56]'...\n",
      "Correct!\n"
     ]
    }
   ],
   "source": [
    "# These functions are responsible for testing the solution. \n",
    "def run(test_case_input: str) -> str:\n",
    "    angles = json.loads(test_case_input)\n",
    "    output = circuit(angles).tolist()\n",
    "\n",
    "    return str(output)\n",
    "\n",
    "def check(solution_output: str, expected_output: str) -> None:\n",
    "    solution_output = json.loads(solution_output)\n",
    "    expected_output = json.loads(expected_output)\n",
    "    assert np.allclose(solution_output, expected_output, rtol=1e-4)\n",
    "    \n",
    "\n",
    "\n",
    "test_cases = [['[1.23, 4.56]', '[0.2829251572359589, 0.3841937063262924, 0.1411749135148633, 0.19170622292288542]']]\n",
    "\n",
    "for i, (input_, expected_output) in enumerate(test_cases):\n",
    "    print(f\"Running test case {i} with input '{input_}'...\")\n",
    "\n",
    "    try:\n",
    "        output = run(input_)\n",
    "\n",
    "    except Exception as exc:\n",
    "        print(f\"Runtime Error. {exc}\")\n",
    "\n",
    "    else:\n",
    "        if message := check(output, expected_output):\n",
    "            print(f\"Wrong Answer. Have: '{output}'. Want: '{expected_output}'.\")\n",
    "\n",
    "        else:\n",
    "            print(\"Correct!\")"
   ]
  },
  {
   "cell_type": "markdown",
   "id": "257f7c5c-5bfa-4b33-a76b-8d283f81add6",
   "metadata": {},
   "source": [
    "Great, we got the right answer! Let's go back and submit this on the challenge platform:\n",
    "\n",
    "<center>\n",
    "<img src=\"pics/complete-tutorial.png\" style=\"width:850px\">\n",
    "</center>\n",
    "\n",
    "Submitting, we finally taste success! Here is what success tastes like:\n",
    "\n",
    "<center>\n",
    "<img src=\"pics/tutorial-success.png\" style=\"width:850px\">\n",
    "</center>\n",
    "\n",
    "Of course, this is a simple problem, and you're probably more interested in solving real coding problems. These are the ones for which points are available! I won't focus on the competitive aspect, but ranking is determined as follows: \n",
    "\n",
    "- **points**, determined by the difficulty of the problem; and\n",
    "- **timing** as a tie-breaker, with teams ranked in order of the time they arrived at that number of points.\n",
    "\n",
    "If you have more questions, feel free to check out the site! We'll move on to solving real coding challenges."
   ]
  },
  {
   "cell_type": "markdown",
   "id": "a13ab6f1-936d-4b26-8208-29483afc3f9b",
   "metadata": {},
   "source": [
    "## 3. A real problem\n",
    "\n",
    "The tutorial problems are just designed to introduce a few simple tools and get you in the right headspace. They are not meant to be hard! The point-worthy challenges are meant to be more, well, challenging. In the last part of this tutorial, I'll discuss a few problem-solving principles, applied to a real challenge from last year."
   ]
  },
  {
   "cell_type": "markdown",
   "id": "b8ee14bb-cb15-40d7-bc26-2704c0e81681",
   "metadata": {},
   "source": [
    "### 3.1. Groverless search\n",
    "\n",
    "Let's start by stating the problem. A car is hidden behind one of four doors, labelled by two bits: $00$, $01$, $10$, and $11$. There is an **oracle** (labelled \"¿?\" below) which takes two query qubits $\\vert xy\\rangle,$ and a third qubit in state $\\vert 0\\rangle,$ and changes it to $\\vert 1\\rangle$, if the car is behind door $\\vert xy\\rangle.$ For instance, if the car is behind door 01 and we input $\\vert01\\rangle$ on the first two wires, the oracle will flip the third bit:\n",
    "\n",
    "<center>\n",
    "<img src=\"pics/car.jpeg\" style=\"width:750px\">\n",
    "</center>\n",
    "\n",
    "If we check classically, going door to door, it will take three guesses at most. If the car isn't behind the first three doors, it's behind the fourth! How well can we do quantumly? This is a search problem, and we are provided an oracle. If you know your quantum algorithms, this should immediately scream **Grover's algorithm** to you! Loosely speaking, by applying something called the **Grover operator** $G$ a few times, consisting of the oracle followed by another operator called the diffusion operator $D$:\n",
    "\n",
    "<center>\n",
    "<img src=\"pics/grover2.png\" style=\"width:410px\">\n",
    "</center>\n",
    "\n",
    "This can speed up searches by a quadratic factor, so instead of $4$, we'd expect $\\sqrt{4} = 2$ inquiries. (In fact, it only takes a single inquiry! But that won't matter too much to us.) Great! But this would be too easy. The diffusion operator $D$ acts on all three qubits in our find-the-car problem. The problem will *disallow* this operator, and hence Grover's algorithm, by permitting only *single-qubit gates* in addition to the oracle.\n",
    "\n",
    "So, let's finally state the challenge: **create two circuits (with one oracle call + single-qubit gates) which together tell us where the car is with 100% probability.**"
   ]
  },
  {
   "cell_type": "markdown",
   "id": "60bb460d-c3c5-49bc-a8aa-1caaca1549ad",
   "metadata": {},
   "source": [
    "### 3.2. Looking for patterns\n",
    "\n",
    "We need to use two circuits. We have two bits, and are restricted to single-qubit gates. Putting these together suggests an approach: try to tailor each circuit to determine a single bit! We can test both values for each bit using superpositions. The simplest way to introduce a superposition is to use the **Hadamard gate**, defined by\n",
    "\n",
    "$$\n",
    "H \\vert0\\rangle = \\frac{1}{\\sqrt{2}}(\\vert 0\\rangle + \\vert 1\\rangle) = \\vert +\\rangle, \\quad H \\vert 1\\rangle = \\frac{1}{\\sqrt{2}}(\\vert 0\\rangle - \\vert 1\\rangle) = \\vert -\\rangle.\n",
    "$$\n",
    "\n",
    "Let's apply it to the first gate. The circuit looks as follows:\n",
    "\n",
    "<center>\n",
    "<img src=\"pics/hbit3.png\" style=\"width:410px\">\n",
    "</center>\n",
    "\n",
    "The state going into the oracle is the superposition\n",
    "\n",
    "$$\n",
    "(H\\otimes I \\otimes I)\\vert 000\\rangle = \\vert +\\rangle \\vert 00\\rangle.\n",
    "$$\n",
    "\n",
    "If the car is behind door $00$ or $10,$ the last qubit will be flipped into state $\\vert 1\\rangle$, and we in fact have a probability of $50\\%$ of observing $1$. For instance, if the car is behind $10$, then the result of the circuit is\n",
    "\n",
    "$$\n",
    "\\frac{1}{\\sqrt{2}}(\\vert 000\\rangle + \\vert 101\\rangle).\n",
    "$$\n",
    "\n",
    "If neither $00$ nor $10$ is the solution, we observe $0$ with probability $100\\%$. Although this is progress, it doesn't tell us the value of the first bit with $100\\%$ certainty! It would be great if we could encode the two possibilities into *orthogonal states* we can distinguish with certainty."
   ]
  },
  {
   "cell_type": "markdown",
   "id": "91c12e5a-2b95-48a9-afd1-94ea1e2fad97",
   "metadata": {},
   "source": [
    "### 3.2. Setting a subgoal\n",
    "\n",
    "The states $\\vert +\\rangle$ and $\\vert -\\rangle$ produced by the Hadamard gate are orthogonal. Since we piped $\\vert +\\rangle$ into the oracle, wouldn't it be great if the first qubit remains in state $\\vert +\\rangle$ if we haven't looked at the solution, and $\\vert -\\rangle$ if we have? By applying $H$ once more, we could measure in the usual basis and distinguish these outcomes with $100\\%$ certainty. This is a goal we can try to aim for!\n",
    "\n",
    "Suppose that, instead of flipping the last qubit, the oracle applies a *minus sign* to $\\vert xy\\rangle$ and otherwise leave the state alone. We'll call the first the *bit flip* and the second the *phase flip* oracle. Then if, for instance, $\\vert 10\\rangle$ is the solution, the input state becomes\n",
    "\n",
    "$$\n",
    "\\vert +\\rangle \\vert 0\\rangle = \\frac{1}{\\sqrt{2}}(\\vert 00\\rangle + \\vert 10\\rangle) \\mapsto \\frac{1}{\\sqrt{2}}(\\vert 00\\rangle - \\vert 10\\rangle) = \\vert -\\rangle \\vert 0\\rangle.\n",
    "$$\n",
    "\n",
    "Similarly, if $\\vert 00\\rangle$ is the solution, the output state is $-\\vert -\\rangle \\vert 0\\rangle$, which is the same for the purposes of measurement. Applying $H$ turns $\\vert +\\rangle$ into $\\vert 0\\rangle$ and $\\vert -\\rangle$ into $\\vert 1\\rangle$, which we just measure in the computational basis. The total circuit is\n",
    "\n",
    "<center>\n",
    "<img src=\"pics/hbit2.png\" style=\"width:420px\">\n",
    "</center>\n",
    "\n",
    "where the oracle labelled $\\pm$ acts by applying signs rather flipping the third qubit. So, to be clear, this circuit (if we can build it!) will tell us whether one of $00$ or $10$ is a solution, with certainty. If we use a second circuit, which acts on the second qubit instead, we'll learn whether $00$ or $01$ is a solution, with certainty. If both circuits say no, we know the car has to be behind door $11$. So all we need to do is figure out how to create the new oracle!"
   ]
  },
  {
   "cell_type": "markdown",
   "id": "f07ecdd9-8737-4270-8bd8-9414db80a864",
   "metadata": {},
   "source": [
    "### 3.3. Tricks of the trade\n",
    "\n",
    "At this point, you can mess around with circuits until you find something that works. But there are a few tricks of the trade that are useful here. If $U$ is the bit flip version of the oracle, and the door is behind door $xy$, then\n",
    "\n",
    "$$\n",
    "U \\vert xy c\\rangle = \\vert xy \\bar{c}\\rangle, \\quad\\text{otherwise}\\quad U \\vert ab c\\rangle = \\vert ab c\\rangle.\n",
    "$$\n",
    "\n",
    "where $\\bar{c} = 1 - c$ is the bit-flipped version of $c$. In particular, this means\n",
    "\n",
    "$$\n",
    "U \\vert xy\\rangle \\vert -\\rangle = \\frac{1}{\\sqrt{2}}U (\\vert xy\\rangle\\vert 0\\rangle - \\vert xy \\rangle\\vert1\\rangle) = \\frac{1}{\\sqrt{2}} (\\vert xy \\rangle\\vert1\\rangle - \\vert xy\\rangle\\vert 0\\rangle) = -\\vert xy\\rangle \\vert -\\rangle,\n",
    "$$\n",
    "\n",
    "and similarly for any other pair of bits $a, b$, \n",
    "\n",
    "$$\n",
    "U \\vert ab\\rangle \\vert -\\rangle = \\vert ab\\rangle \\vert -\\rangle.\n",
    "$$\n",
    "\n",
    "We can forget all about the last qubit because it always stays in the same state, and instead \"move\" the minus sign onto the first two qubits. This is called the **phase kickback trick**. If you've studied quantum algorithms and oracles, you've probably seen this before!\n",
    "\n",
    "To place the third qubit into the $\\vert -\\rangle$ state, we just apply an $X$ and then an $H$ gate:\n",
    "\n",
    "$$\n",
    "\\vert 0\\rangle \\overset{X}{\\mapsto} \\vert 1\\rangle \\overset{H}{\\mapsto} \\vert -\\rangle.\n",
    "$$\n",
    "\n",
    "So, let's put it all together to get our circuit on the first bit:\n",
    "\n",
    "<center>\n",
    "<img src=\"pics/circuit1v2.png\" style=\"width:420px\">\n",
    "</center>\n",
    "\n",
    "The circuit on the second bit is similar."
   ]
  },
  {
   "cell_type": "markdown",
   "id": "7b01806f-b78a-4c27-aca7-819a48ec9b31",
   "metadata": {},
   "source": [
    "### 3.4. Test the code!\n",
    "\n",
    "We can finally code this up! First, we'll create a device:"
   ]
  },
  {
   "cell_type": "code",
   "execution_count": 62,
   "id": "9490c11d-5c2f-4a10-9675-3e4dc5508a8d",
   "metadata": {},
   "outputs": [],
   "source": [
    "# Create a device on three qubits\n",
    "dev = qml.device(\"default.qubit\", wires=[0,1,2], shots=1)"
   ]
  },
  {
   "cell_type": "markdown",
   "id": "bee1efff-909b-49fe-8e90-c984fa48de0b",
   "metadata": {},
   "source": [
    "Next, we'll create the oracle, and conceal the car behind some door, e.g. $x = y = 1$. Secretly, this is a multi-controlled X gate, but that won't concern us too much:"
   ]
  },
  {
   "cell_type": "code",
   "execution_count": 86,
   "id": "4691855c-b35b-4d82-85fa-5b9eeb1d1b14",
   "metadata": {},
   "outputs": [],
   "source": [
    "# Implement the oracle\n",
    "def oracle(x, y):\n",
    "    ctrl_str = str(x) + str(y)\n",
    "    op = qml.MultiControlledX([0, 1], 2, ctrl_str)\n",
    "    return op\n",
    "\n",
    "oracle = oracle(1, 1)"
   ]
  },
  {
   "cell_type": "markdown",
   "id": "1a625092-29c5-470e-ac65-211ebdf5155b",
   "metadata": {},
   "source": [
    "Now we can actually implement the circuits:"
   ]
  },
  {
   "cell_type": "code",
   "execution_count": 87,
   "id": "c9c2116c-2133-43c7-92e3-5278f4c383f0",
   "metadata": {},
   "outputs": [],
   "source": [
    "# Define our circuits\n",
    "@qml.qnode(dev)\n",
    "def circuit1():\n",
    "    qml.PauliX(wires=2)\n",
    "    qml.Hadamard(wires=2)\n",
    "        \n",
    "    qml.Hadamard(wires=0)\n",
    "    qml.apply(oracle)\n",
    "    qml.Hadamard(wires=0)\n",
    "        \n",
    "    return qml.sample(wires=[0])\n",
    "    \n",
    "@qml.qnode(dev)\n",
    "def circuit2():\n",
    "    qml.PauliX(wires=2)\n",
    "    qml.Hadamard(wires=2)\n",
    "        \n",
    "    qml.Hadamard(wires=1)\n",
    "    qml.apply(oracle)\n",
    "    qml.Hadamard(wires=1)\n",
    "        \n",
    "    return qml.sample(wires=[1])"
   ]
  },
  {
   "cell_type": "markdown",
   "id": "724f28bf-ab14-4b2a-b297-a2e6e7d60bea",
   "metadata": {},
   "source": [
    "Finally, we define our guess function, which runs the two circuits and outputs the location of the car:"
   ]
  },
  {
   "cell_type": "code",
   "execution_count": 91,
   "id": "d1801211-4fd8-4f11-a4d5-6b3e269440f3",
   "metadata": {},
   "outputs": [
    {
     "name": "stdout",
     "output_type": "stream",
     "text": [
      "I guess the car is hidden behind door 1 1 .\n"
     ]
    }
   ],
   "source": [
    "# Locate the car\n",
    "def guess():\n",
    "    x = y = 0\n",
    "    bit_2_equals_0 = circuit1()\n",
    "    bit_1_equals_0 = circuit2()\n",
    "    if bit_2_equals_0 == 1:\n",
    "        y = 0\n",
    "    else:\n",
    "        y = 1\n",
    "    if bit_1_equals_0 == 1:\n",
    "        x = 0\n",
    "    else:\n",
    "        x = 1\n",
    "    return [x, y]\n",
    "\n",
    "print(\"I guess the car is hidden behind door\", guess()[0], guess()[1], \".\")"
   ]
  },
  {
   "cell_type": "markdown",
   "id": "2be9e45f-fd79-454d-8b97-a9ed181fc508",
   "metadata": {},
   "source": [
    "It works! It would be pedagogically better if it didn't and I could about debugging, but really, who wants to see me debug fake code?"
   ]
  },
  {
   "cell_type": "markdown",
   "id": "61711549-a386-4364-b549-2abf505c2e57",
   "metadata": {},
   "source": [
    "### 3.5. Hindsight\n",
    "\n",
    "A final comment. I didn't write this problem, and actually presented the rough sequence of my thoughts as I solved it. You might wonder if there is slick shortcut to this result. There is! But be warned that, in general, you may only see these shortcuts with hindsight.\n",
    "\n",
    "The trick here is to use the *Deutsch-Josza algorithm*. This gives you a one-shot method for determining if a binary function on $n$ bits, $f: \\{0, 1\\}^n \\to \\{0, 1\\}$, is *constant* or *balanced* (half the inputs give $0$, half the inputs give $1$) given that it must be one of those two, and also assuming we have access to the bit flip (or phase flip) oracle. I won't go into detail, but to find the car with the single-qubit gate restriction, you apply Deutsch-Josza twice, once to each bit of the door's label. More precisely, for the first circuit, we apply it to the function\n",
    "\n",
    "$$\n",
    "f_1(x) = \\begin{cases}\n",
    "1 & \\text{the car is behind door } x0 \\\\\n",
    "0 & \\text{the car is not behind door } x0,\n",
    "\\end{cases}\n",
    "$$\n",
    "\n",
    "and similarly for the second circuit. You can check these functions are either constant or balanced!\n",
    "\n",
    "A meta-trick is to read the docs, for instance, our code-first interactive textbook at [codebook.xanadu.ai](https://codebook.xanadu.ai/)."
   ]
  },
  {
   "cell_type": "code",
   "execution_count": null,
   "id": "f09ae263-895d-44e9-b46c-026fcc0b2260",
   "metadata": {},
   "outputs": [],
   "source": []
  }
 ],
 "metadata": {
  "kernelspec": {
   "display_name": "Python 3 (ipykernel)",
   "language": "python",
   "name": "python3"
  },
  "language_info": {
   "codemirror_mode": {
    "name": "ipython",
    "version": 3
   },
   "file_extension": ".py",
   "mimetype": "text/x-python",
   "name": "python",
   "nbconvert_exporter": "python",
   "pygments_lexer": "ipython3",
   "version": "3.10.6"
  }
 },
 "nbformat": 4,
 "nbformat_minor": 5
}
